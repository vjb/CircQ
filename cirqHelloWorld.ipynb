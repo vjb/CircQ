{
 "cells": [
  {
   "cell_type": "code",
   "execution_count": 5,
   "metadata": {},
   "outputs": [],
   "source": [
    "import cirq"
   ]
  },
  {
   "cell_type": "code",
   "execution_count": 6,
   "metadata": {},
   "outputs": [],
   "source": [
    "def c():\n",
    "    # Pick a qubit.\n",
    "    qubit = cirq.GridQubit(0, 0)\n",
    "\n",
    "    # Create a circuit\n",
    "    circuit = cirq.Circuit.from_ops(\n",
    "        cirq.X(qubit)**0.5,  # Square root of NOT.\n",
    "        cirq.measure(qubit, key='m')  # Measurement.\n",
    "    )\n",
    "    print(\"Circuit:\")\n",
    "    print(circuit)\n",
    "\n",
    "    # Simulate the circuit several times.\n",
    "    simulator = cirq.google.XmonSimulator()\n",
    "    result = simulator.run(circuit, repetitions=20)\n",
    "    print(\"Results:\")\n",
    "    print(result)\n"
   ]
  },
  {
   "cell_type": "code",
   "execution_count": 7,
   "metadata": {},
   "outputs": [
    {
     "name": "stdout",
     "output_type": "stream",
     "text": [
      "Circuit:\n",
      "(0, 0): ───X^0.5───M('m')───\n",
      "Results:\n",
      "m=11110001101111101101\n"
     ]
    }
   ],
   "source": [
    "c()"
   ]
  }
 ],
 "metadata": {
  "kernelspec": {
   "display_name": "circq",
   "language": "python",
   "name": "circq"
  },
  "language_info": {
   "codemirror_mode": {
    "name": "ipython",
    "version": 3
   },
   "file_extension": ".py",
   "mimetype": "text/x-python",
   "name": "python",
   "nbconvert_exporter": "python",
   "pygments_lexer": "ipython3",
   "version": "3.7.2"
  }
 },
 "nbformat": 4,
 "nbformat_minor": 2
}
